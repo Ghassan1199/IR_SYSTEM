{
 "cells": [
  {
   "cell_type": "code",
   "execution_count": 1,
   "metadata": {},
   "outputs": [
    {
     "name": "stdout",
     "output_type": "stream",
     "text": [
      "Connected to Milvus at localhost:19530\n"
     ]
    }
   ],
   "source": [
    "from Services.JSONHandler import JSONHandler\n",
    "from Services.SearchEngine import SearchEngine\n",
    "from Services.SearchEvaluator import SearchEvaluator\n",
    "import json\n",
    "\n",
    "from bson import ObjectId\n",
    "from tqdm import tqdm  \n",
    "\n",
    "from Services.MilvusDB import MilvusDB\n",
    "import fasttext\n",
    "\n",
    "MilvusDB.connect()\n",
    "ft_model = fasttext.load_model('./Models/quora_model.bin')\n",
    "class JSONEncoder(json.JSONEncoder):\n",
    "    \"\"\" Extend json-encoder class to handle ObjectId types. \"\"\"\n",
    "    def default(self, obj):\n",
    "        if isinstance(obj, ObjectId):\n",
    "            return str(obj)\n",
    "        return super().default(obj)"
   ]
  },
  {
   "cell_type": "code",
   "execution_count": 3,
   "metadata": {},
   "outputs": [
    {
     "name": "stderr",
     "output_type": "stream",
     "text": [
      "Processing Queries: 100%|██████████| 10000/10000 [14:01<00:00, 11.88it/s]"
     ]
    },
    {
     "name": "stdout",
     "output_type": "stream",
     "text": [
      "AVG MRR : 0.7414669404761915 \n",
      "AVG MAP : 0.6746483894757138 \n",
      "AVG P@10 : 0.4566000000000521 \n",
      "AVG R : 0.8615967882155703 \n"
     ]
    },
    {
     "name": "stderr",
     "output_type": "stream",
     "text": [
      "\n"
     ]
    }
   ],
   "source": [
    "# Define file paths\n",
    "dataset_path = './DataSets/Quora/JSON/quora-test-docs.json'\n",
    "index_path = './DataSets/Quora/inverted-index.json'\n",
    "tfidf_file = \"./DataSets/Quora/tfidf-matrix.npz\"\n",
    "vectorizer_file = \"./DataSets/Quora/vectorizer.pkl\"\n",
    "doc_ids_file_path = \"./DataSets/Quora/doc_ids.json\"\n",
    "qrels_path = './DataSets/Quora/JSON/quora-test-qrels.json'\n",
    "\n",
    "# Load qrels\n",
    "\n",
    "qrels = SearchEvaluator.load_qrels(qrels_path)\n",
    "\n",
    "# Load queries\n",
    "queries = JSONHandler.convert_from_json('./DataSets/Quora/JSON/quora-test-queries.json')\n",
    "\n",
    "# Initialize results dictionary\n",
    "results_dict = {}\n",
    "mrr_antique_sum = 0\n",
    "map_antique_sum = 0\n",
    "recall_antique_sum = 0\n",
    "p10_antique_sum = 0\n",
    "\n",
    "# Process each query and evaluate\n",
    "for query in tqdm(queries, desc=\"Processing Queries\"):\n",
    "    query_id = query['query_id']\n",
    "    query_text = query['text']\n",
    "    search_results = SearchEngine.search_with_embedding(query_text, \"quora\", ft_model,10)\n",
    "    results = SearchEvaluator.evaluate_search_engine_with_embedding(query_id, search_results, qrels)\n",
    "    results_dict[query_id] = results\n",
    "    mrr_antique_sum+=results[\"MRR\"]\n",
    "    map_antique_sum+=results[\"MAP\"]\n",
    "    recall_antique_sum+=results['R']\n",
    "    p10_antique_sum+=results['P@10']\n",
    "\n",
    "mrr_antique_avg = mrr_antique_sum/len(queries)\n",
    "map_antique_avg = map_antique_sum/len(queries)\n",
    "p10_antique_avg = p10_antique_sum/len(queries)\n",
    "recall_antique_avg = recall_antique_sum/len(queries)\n",
    "\n",
    "print(f'AVG MRR : {mrr_antique_avg} ')\n",
    "print(f'AVG MAP : {map_antique_avg} ')\n",
    "print(f'AVG P@10 : {p10_antique_avg} ')\n",
    "print(f'AVG R : {recall_antique_avg} ')"
   ]
  }
 ],
 "metadata": {
  "kernelspec": {
   "display_name": "Python 3",
   "language": "python",
   "name": "python3"
  },
  "language_info": {
   "codemirror_mode": {
    "name": "ipython",
    "version": 3
   },
   "file_extension": ".py",
   "mimetype": "text/x-python",
   "name": "python",
   "nbconvert_exporter": "python",
   "pygments_lexer": "ipython3",
   "version": "3.11.7"
  }
 },
 "nbformat": 4,
 "nbformat_minor": 2
}

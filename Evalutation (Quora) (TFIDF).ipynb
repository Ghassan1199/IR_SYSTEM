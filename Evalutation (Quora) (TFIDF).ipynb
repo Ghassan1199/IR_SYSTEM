{
 "cells": [
  {
   "cell_type": "markdown",
   "metadata": {},
   "source": [
    "# Import necessary libraries and modules and creating the Json Encoder class"
   ]
  },
  {
   "cell_type": "code",
   "execution_count": 1,
   "metadata": {},
   "outputs": [],
   "source": [
    "from Services.JSONHandler import JSONHandler\n",
    "import json\n",
    "from bson import ObjectId\n",
    "from tqdm import tqdm  # Import tqdm for the progress\n",
    "\n",
    "\n",
    "\n",
    "class JSONEncoder(json.JSONEncoder):\n",
    "    \"\"\" Extend json-encoder class to handle ObjectId types. \"\"\"\n",
    "    def default(self, obj):\n",
    "        if isinstance(obj, ObjectId):\n",
    "            return str(obj)\n",
    "        return super().default(obj)"
   ]
  },
  {
   "cell_type": "markdown",
   "metadata": {},
   "source": [
    "# Evalutation without any Extra "
   ]
  },
  {
   "cell_type": "markdown",
   "metadata": {},
   "source": [
    "Quora Evalutation"
   ]
  },
  {
   "cell_type": "code",
   "execution_count": 2,
   "metadata": {},
   "outputs": [
    {
     "name": "stderr",
     "output_type": "stream",
     "text": [
      "Processing Queries: 100%|██████████| 10000/10000 [29:17<00:00,  5.69it/s] "
     ]
    },
    {
     "name": "stdout",
     "output_type": "stream",
     "text": [
      "AVG MRR : 0.6514920484862434 \n",
      "AVG MAP : 0.6050879859964369 \n",
      "AVG P@10 : 0.3664256349206288 \n",
      "AVG R : 0.7215754823951575 \n"
     ]
    },
    {
     "name": "stderr",
     "output_type": "stream",
     "text": [
      "\n"
     ]
    }
   ],
   "source": [
    "# Define file paths\n",
    "from Services.SearchEngine import SearchEngine\n",
    "from Services.SearchEvaluator import SearchEvaluator\n",
    "from Services.TextProcessor import TextProcessor\n",
    "\n",
    "dataset_path = './DataSets/Quora/JSON/quora-test-docs.json'\n",
    "index_path = './DataSets/Quora/inverted-index.json'\n",
    "tfidf_file = \"./DataSets/Quora/tfidf-matrix.npz\"\n",
    "vectorizer_file = \"./DataSets/Quora/vectorizer.pkl\"\n",
    "doc_ids_file_path = \"./DataSets/Quora/doc_ids.json\"\n",
    "qrels_path = './DataSets/Quora/JSON/quora-test-qrels.json'\n",
    "\n",
    "# Load qrels\n",
    "\n",
    "qrels = SearchEvaluator.load_qrels(qrels_path)\n",
    "\n",
    "# Load queries\n",
    "queries = JSONHandler.convert_from_json('./DataSets/Quora/JSON/quora-test-queries.json')\n",
    "\n",
    "# Initialize results dictionary\n",
    "results_dict = {}\n",
    "mrr_quora_sum = 0\n",
    "map_quora_sum = 0\n",
    "recall_quora_sum = 0\n",
    "p10_quora_sum = 0\n",
    "\n",
    "tfidf_matrix ,doc_ids = TextProcessor.load_tfidf_matrix_and_doc_ids(tfidf_file,doc_ids_file_path)\n",
    "vectorizer = SearchEngine.load_vectorizer(vectorizer_file)\n",
    "\n",
    "# Process each query and evaluate\n",
    "for query in tqdm(queries, desc=\"Processing Queries\"):\n",
    "    query_id = query['query_id']\n",
    "    query_text = query['text']\n",
    "    search_results = SearchEngine.search_without_embedding(query_text, tfidf_matrix, \"quora\", vectorizer, doc_ids,0.7)\n",
    "    results = SearchEvaluator.evaluate_search_engine(query_id, search_results, qrels)\n",
    "    results_dict[query_id] = results\n",
    "    mrr_quora_sum+=results[\"MRR\"]\n",
    "    map_quora_sum+=results[\"MAP\"]\n",
    "    recall_quora_sum+=results['R']\n",
    "    p10_quora_sum+=results['P@10']\n",
    "\n",
    "mrr_quora_avg = mrr_quora_sum/len(queries)\n",
    "map_quora_avg = map_quora_sum/len(queries)\n",
    "p10_quora_avg = p10_quora_sum/len(queries)\n",
    "recall_quora_avg = recall_quora_sum/len(queries)\n",
    "\n",
    "print(f'AVG MRR : {mrr_quora_avg} ')\n",
    "print(f'AVG MAP : {map_quora_avg} ')\n",
    "print(f'AVG P@10 : {p10_quora_avg} ')\n",
    "print(f'AVG R : {recall_quora_avg} ')"
   ]
  }
 ],
 "metadata": {
  "kernelspec": {
   "display_name": "Python 3",
   "language": "python",
   "name": "python3"
  },
  "language_info": {
   "codemirror_mode": {
    "name": "ipython",
    "version": 3
   },
   "file_extension": ".py",
   "mimetype": "text/x-python",
   "name": "python",
   "nbconvert_exporter": "python",
   "pygments_lexer": "ipython3",
   "version": "3.11.7"
  }
 },
 "nbformat": 4,
 "nbformat_minor": 2
}

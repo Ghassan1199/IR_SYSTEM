{
 "cells": [
  {
   "cell_type": "code",
   "execution_count": 2,
   "metadata": {},
   "outputs": [],
   "source": [
    "from Services.JSONHandler import JSONHandler\n",
    "from Services.DataBase import DataBase\n",
    "\n",
    "db = DataBase('mongodb://localhost:27017/', 'quora')\n",
    "dataset = JSONHandler.convert_from_json('./DataSets/Quora/JSON/quora-test-docs.json')\n",
    "db.collection.insert_many(dataset)\n",
    "\n",
    "db.collection.create_index([('doc_id', 1)])\n",
    "\n",
    "db.close_connection()\n"
   ]
  }
 ],
 "metadata": {
  "kernelspec": {
   "display_name": "base",
   "language": "python",
   "name": "python3"
  },
  "language_info": {
   "codemirror_mode": {
    "name": "ipython",
    "version": 3
   },
   "file_extension": ".py",
   "mimetype": "text/x-python",
   "name": "python",
   "nbconvert_exporter": "python",
   "pygments_lexer": "ipython3",
   "version": "3.11.7"
  }
 },
 "nbformat": 4,
 "nbformat_minor": 2
}

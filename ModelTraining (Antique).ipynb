{
 "cells": [
  {
   "cell_type": "code",
   "execution_count": 4,
   "metadata": {},
   "outputs": [
    {
     "name": "stderr",
     "output_type": "stream",
     "text": [
      "Processing documents: 100%|██████████| 403666/403666 [15:13<00:00, 441.87it/s]\n"
     ]
    }
   ],
   "source": [
    "import json\n",
    "from tqdm import tqdm\n",
    "\n",
    "def process_document(doc, qrels, query_dict):\n",
    "    doc_id = doc['doc_id']\n",
    "    doc_text = doc['text']\n",
    "    related_query = next((entry['query_id'] for entry in qrels if entry['doc_id'] == doc_id and entry.get('relevance', 0) >= 2), None)\n",
    "    \n",
    "    if related_query and related_query in query_dict:\n",
    "\n",
    "        combined_text =   query_dict[related_query] + \" \" + doc_text\n",
    "    else:\n",
    "\n",
    "        combined_text = doc_text\n",
    "    \n",
    "    return {\"doc_id\": doc_id, \"text\": combined_text}\n",
    "\n",
    "def merge_queries_with_documents(qrels_path, queries_path, docs_path, output_path):\n",
    "\n",
    "    with open(qrels_path, 'r', encoding='utf-8') as file:\n",
    "        qrels = json.load(file)\n",
    "    \n",
    "\n",
    "    with open(queries_path, 'r', encoding='utf-8') as file:\n",
    "        queries = json.load(file)\n",
    "\n",
    "    query_dict = {item['query_id']: item['query'] for item in queries}\n",
    "    \n",
    "\n",
    "    with open(docs_path, 'r', encoding='utf-8') as file:\n",
    "        docs = json.load(file)\n",
    "    \n",
    "\n",
    "    combined_texts = []\n",
    "    for doc in tqdm(docs, desc=\"Processing documents\"):\n",
    "        processed_doc = process_document(doc, qrels, query_dict)\n",
    "        combined_texts.append(processed_doc)\n",
    "    \n",
    "\n",
    "    with open(output_path, 'w', encoding='utf-8') as file:\n",
    "        json.dump(combined_texts, file, ensure_ascii=False, indent=4)\n",
    "\n",
    "\n",
    "qrels_path = './DataSets/Antique/JSON/Antique_Qrels.json'\n",
    "queries_path = './DataSets/Antique/JSON/Antique_Queries.json'\n",
    "docs_path = './DataSets/Antique/JSON/Antique_Docs.json'\n",
    "output_path = './DataSets/Antique/Antique_Combined.json'\n",
    "merge_queries_with_documents(qrels_path, queries_path, docs_path, output_path)"
   ]
  },
  {
   "cell_type": "code",
   "execution_count": 5,
   "metadata": {},
   "outputs": [],
   "source": [
    "import json\n",
    "def json_to_text(input_json_path, output_text_path):\n",
    "\n",
    "    with open(input_json_path, 'r', encoding='utf-8') as file:\n",
    "        data = json.load(file)\n",
    "    \n",
    "\n",
    "    with open(output_text_path, 'w', encoding='utf-8') as outfile:\n",
    "        for item in data:\n",
    "            outfile.write(item['text'] + '\\n')\n",
    "\n",
    "\n",
    "input_json_path = './DataSets/Antique/Antique_Combined.json'\n",
    "output_text_path = './DataSets/Antique/Antique_Combined_Text.txt'\n",
    "json_to_text(input_json_path, output_text_path)"
   ]
  },
  {
   "cell_type": "code",
   "execution_count": 1,
   "metadata": {},
   "outputs": [
    {
     "name": "stderr",
     "output_type": "stream",
     "text": [
      "Processing lines: 100%|██████████| 403666/403666 [10:48<00:00, 622.07it/s] \n"
     ]
    }
   ],
   "source": [
    "from Services.TextProcessor import TextProcessor\n",
    "from tqdm import tqdm\n",
    "\n",
    "def process_file(input_file_path, output_file_path):\n",
    "    with open(input_file_path, 'r', encoding='utf-8') as infile:\n",
    "        lines = infile.readlines()\n",
    "\n",
    "    with open(output_file_path, 'w', encoding='utf-8') as outfile:\n",
    "\n",
    "        for line in tqdm(lines, desc=\"Processing lines\"):\n",
    "                cleaned_text = TextProcessor.process_text(line)\n",
    "                outfile.write(' '.join(cleaned_text) + '\\n')\n",
    "\n",
    "process_file(\"./DataSets/Antique/Antique_Combined_Text.txt\", \"./DataSets/Antique/Antique_Docs_Processed.txt\")"
   ]
  },
  {
   "cell_type": "code",
   "execution_count": 1,
   "metadata": {},
   "outputs": [],
   "source": [
    "import fasttext\n",
    "\n",
    "model = fasttext.train_unsupervised(\"./DataSets/Antique/Antique_Docs_Processed.txt\", model='skipgram',thread = 8, dim=600 )\n",
    "model.save_model('antique_model.bin')"
   ]
  }
 ],
 "metadata": {
  "kernelspec": {
   "display_name": "Python 3",
   "language": "python",
   "name": "python3"
  },
  "language_info": {
   "codemirror_mode": {
    "name": "ipython",
    "version": 3
   },
   "file_extension": ".py",
   "mimetype": "text/x-python",
   "name": "python",
   "nbconvert_exporter": "python",
   "pygments_lexer": "ipython3",
   "version": "3.9.13"
  }
 },
 "nbformat": 4,
 "nbformat_minor": 2
}

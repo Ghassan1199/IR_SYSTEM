{
 "cells": [
  {
   "cell_type": "code",
   "execution_count": 1,
   "metadata": {},
   "outputs": [
    {
     "name": "stderr",
     "output_type": "stream",
     "text": [
      "Warning : `load_model` does not return WordVectorModel or SupervisedModel any more, but a `FastText` object which is very similar.\n",
      "Processing documents with FastText model: 100%|██████████| 403666/403666 [19:38<00:00, 342.58it/s] \n"
     ]
    },
    {
     "name": "stdout",
     "output_type": "stream",
     "text": [
      "Processed documents successfully saved to ./DataSets/Antique/embeddings.json\n"
     ]
    }
   ],
   "source": [
    "from Services.DataSetProcessor import process_datasets\n",
    "import fasttext\n",
    "ft_model = fasttext.load_model('./Models/antique_model.bin')\n",
    "process_datasets(\"antique\",1,ft_model)\n"
   ]
  },
  {
   "cell_type": "code",
   "execution_count": 2,
   "metadata": {},
   "outputs": [
    {
     "name": "stdout",
     "output_type": "stream",
     "text": [
      "Connected to Milvus at localhost:19530\n",
      "Dropped collection: antique\n",
      "Error accessing collection: <SchemaNotReadyException: (code=1, message=Collection 'antique' not exist, or you can pass in schema to create one.)>\n",
      "Index created on vector with type IVF_FLAT and metric COSINE\n"
     ]
    },
    {
     "name": "stderr",
     "output_type": "stream",
     "text": [
      "Inserting processed documents into MilvusDB: 403666it [1:24:45, 79.37it/s] \n"
     ]
    }
   ],
   "source": [
    "import ijson\n",
    "from tqdm import tqdm\n",
    "from Services.MilvusDB import MilvusDB\n",
    "from Services.TextProcessor import TextProcessor\n",
    "MilvusDB.connect()\n",
    "MilvusDB.drop_all_collections()\n",
    "\n",
    "filename = './DataSets/Antique/embeddings.json'\n",
    "collection = MilvusDB.get_collection('antique')\n",
    "if(collection):\n",
    "    collection.drop()\n",
    "if collection is None:\n",
    "    collection = MilvusDB.create_collection('antique', 600)\n",
    "\n",
    "\n",
    "with open(filename, 'r', encoding='utf-8') as file:\n",
    "\n",
    "    objects = ijson.items(file, 'item')\n",
    "\n",
    "    for doc in tqdm(objects, desc=\"Inserting processed documents into MilvusDB\"):\n",
    "        entity = {\n",
    "            \"doc_id\": doc[\"doc_id\"],\n",
    "            \"vector\": TextProcessor.normalize_vector(doc[\"vector\"])\n",
    "        }\n",
    "        collection.insert(entity)\n"
   ]
  }
 ],
 "metadata": {
  "kernelspec": {
   "display_name": "Python 3",
   "language": "python",
   "name": "python3"
  },
  "language_info": {
   "codemirror_mode": {
    "name": "ipython",
    "version": 3
   },
   "file_extension": ".py",
   "mimetype": "text/x-python",
   "name": "python",
   "nbconvert_exporter": "python",
   "pygments_lexer": "ipython3",
   "version": "3.9.13"
  }
 },
 "nbformat": 4,
 "nbformat_minor": 2
}

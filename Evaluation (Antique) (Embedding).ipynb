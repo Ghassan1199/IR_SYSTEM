{
 "cells": [
  {
   "cell_type": "markdown",
   "metadata": {},
   "source": [
    "# Import necessary libraries and modules and creating the Json Encoder class"
   ]
  },
  {
   "cell_type": "code",
   "execution_count": 1,
   "metadata": {},
   "outputs": [
    {
     "name": "stderr",
     "output_type": "stream",
     "text": [
      "Warning : `load_model` does not return WordVectorModel or SupervisedModel any more, but a `FastText` object which is very similar.\n"
     ]
    }
   ],
   "source": [
    "from Services.JSONHandler import JSONHandler\n",
    "from Services.SearchEngine import SearchEngine\n",
    "from Services.SearchEvaluator import SearchEvaluator\n",
    "import json\n",
    "\n",
    "from bson import ObjectId\n",
    "from tqdm import tqdm  \n",
    "\n",
    "\n",
    "import fasttext\n",
    "ft_model = fasttext.load_model('./Models/antique_model.bin')\n",
    "class JSONEncoder(json.JSONEncoder):\n",
    "    \"\"\" Extend json-encoder class to handle ObjectId types. \"\"\"\n",
    "    def default(self, obj):\n",
    "        if isinstance(obj, ObjectId):\n",
    "            return str(obj)\n",
    "        return super().default(obj)"
   ]
  },
  {
   "cell_type": "code",
   "execution_count": 3,
   "metadata": {},
   "outputs": [
    {
     "name": "stdout",
     "output_type": "stream",
     "text": [
      "Connected to Milvus at localhost:19530\n"
     ]
    },
    {
     "name": "stderr",
     "output_type": "stream",
     "text": [
      "Processing Queries:   0%|          | 0/2426 [00:00<?, ?it/s]"
     ]
    },
    {
     "name": "stderr",
     "output_type": "stream",
     "text": [
      "Processing Queries: 100%|██████████| 2426/2426 [01:19<00:00, 30.35it/s]"
     ]
    },
    {
     "name": "stdout",
     "output_type": "stream",
     "text": [
      "AVG MRR : 0.5691078135018778 \n",
      "AVG MAP : 0.5216815389629577 \n",
      "AVG P@10 : 0.3816982687551541 \n",
      "AVG R : 0.7054925004131835 \n"
     ]
    },
    {
     "name": "stderr",
     "output_type": "stream",
     "text": [
      "\n"
     ]
    }
   ],
   "source": [
    "from Services.MilvusDB import MilvusDB\n",
    "\n",
    "MilvusDB.connect()\n",
    "\n",
    "# Define file paths\n",
    "dataset_path = './DataSets/Antique/JSON/Antique_Docs.json'\n",
    "index_path = './DataSets/Antique/inverted-index.json'\n",
    "tfidf_file = \"./DataSets/Antique/tfidf-matrix.npz\"\n",
    "vectorizer_file = \"./DataSets/Antique/vectorizer.pkl\"\n",
    "doc_ids_file_path = \"./DataSets/Antique/doc_ids.json\"\n",
    "qrels_path = './DataSets/Antique/JSON/Antique_Qrels.json'\n",
    "\n",
    "# Load qrels\n",
    "\n",
    "qrels = SearchEvaluator.load_qrels(qrels_path)\n",
    "\n",
    "# Load queries\n",
    "queries = JSONHandler.convert_from_json('./DataSets/Antique/JSON/Antique_Queries.json')\n",
    "\n",
    "# Initialize results dictionary\n",
    "results_dict = {}\n",
    "mrr_antique_sum = 0\n",
    "map_antique_sum = 0\n",
    "recall_antique_sum = 0\n",
    "p10_antique_sum = 0\n",
    "\n",
    "# Process each query and evaluate\n",
    "for query in tqdm(queries, desc=\"Processing Queries\"):\n",
    "    query_id = query['query_id']\n",
    "    query_text = query['query']\n",
    "    search_results = SearchEngine.search_with_embedding(query_text, \"antique\", ft_model,100)\n",
    "    results = SearchEvaluator.evaluate_search_engine_with_embedding(query_id, search_results, qrels)\n",
    "    results_dict[query_id] = results\n",
    "    mrr_antique_sum+=results[\"MRR\"]\n",
    "    map_antique_sum+=results[\"MAP\"]\n",
    "    recall_antique_sum+=results['R']\n",
    "    p10_antique_sum+=results['P@10']\n",
    "\n",
    "mrr_antique_avg = mrr_antique_sum/len(queries)\n",
    "map_antique_avg = map_antique_sum/len(queries)\n",
    "p10_antique_avg = p10_antique_sum/len(queries)\n",
    "recall_antique_avg = recall_antique_sum/len(queries)\n",
    "\n",
    "print(f'AVG MRR : {mrr_antique_avg} ')\n",
    "print(f'AVG MAP : {map_antique_avg} ')\n",
    "print(f'AVG P@10 : {p10_antique_avg} ')\n",
    "print(f'AVG R : {recall_antique_avg} ')"
   ]
  }
 ],
 "metadata": {
  "kernelspec": {
   "display_name": "Python 3",
   "language": "python",
   "name": "python3"
  },
  "language_info": {
   "codemirror_mode": {
    "name": "ipython",
    "version": 3
   },
   "file_extension": ".py",
   "mimetype": "text/x-python",
   "name": "python",
   "nbconvert_exporter": "python",
   "pygments_lexer": "ipython3",
   "version": "3.9.13"
  }
 },
 "nbformat": 4,
 "nbformat_minor": 2
}

{
 "cells": [
  {
   "cell_type": "code",
   "execution_count": 1,
   "metadata": {},
   "outputs": [
    {
     "name": "stderr",
     "output_type": "stream",
     "text": [
      "Processing Documents: 100%|██████████| 522931/522931 [26:48<00:00, 325.20it/s]\n"
     ]
    },
    {
     "name": "stdout",
     "output_type": "stream",
     "text": [
      "TF-IDF matrix successfully saved to ./DataSets/Quora/tfidf-matrix.npz.\n",
      "Document IDs successfully saved to ./DataSets/Quora/doc_ids.json.\n",
      "Features successfully saved to ./DataSets/Quora/features.json\n",
      "Inverted index successfully saved to ./DataSets/Quora/inverted-index.json\n"
     ]
    }
   ],
   "source": [
    "from Services.DataSetProcessor import process_datasets\n",
    "process_datasets('quora',0,None)"
   ]
  }
 ],
 "metadata": {
  "kernelspec": {
   "display_name": "Python 3",
   "language": "python",
   "name": "python3"
  },
  "language_info": {
   "codemirror_mode": {
    "name": "ipython",
    "version": 3
   },
   "file_extension": ".py",
   "mimetype": "text/x-python",
   "name": "python",
   "nbconvert_exporter": "python",
   "pygments_lexer": "ipython3",
   "version": "3.11.7"
  }
 },
 "nbformat": 4,
 "nbformat_minor": 2
}

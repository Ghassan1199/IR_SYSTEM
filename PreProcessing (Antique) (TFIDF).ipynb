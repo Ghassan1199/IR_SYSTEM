{
 "cells": [
  {
   "cell_type": "code",
   "execution_count": 1,
   "metadata": {},
   "outputs": [
    {
     "name": "stderr",
     "output_type": "stream",
     "text": [
      "Processing Documents: 100%|██████████| 403666/403666 [28:24<00:00, 236.88it/s] \n"
     ]
    },
    {
     "name": "stdout",
     "output_type": "stream",
     "text": [
      "TF-IDF matrix successfully saved to ./DataSets/Antique/tfidf-matrix.npz.\n",
      "Document IDs successfully saved to ./DataSets/Antique/doc_ids.json.\n",
      "Features successfully saved to ./DataSets/Antique/features.json\n",
      "Inverted index successfully saved to ./DataSets/Antique/inverted-index.json\n",
      "Processed documents successfully saved to ./DataSets/Antique/processed_docs.json\n"
     ]
    }
   ],
   "source": [
    "from Services.DataSetProcessor import process_datasets\n",
    "process_datasets('antique',0,None)"
   ]
  }
 ],
 "metadata": {
  "kernelspec": {
   "display_name": "Python 3",
   "language": "python",
   "name": "python3"
  },
  "language_info": {
   "codemirror_mode": {
    "name": "ipython",
    "version": 3
   },
   "file_extension": ".py",
   "mimetype": "text/x-python",
   "name": "python",
   "nbconvert_exporter": "python",
   "pygments_lexer": "ipython3",
   "version": "3.9.13"
  }
 },
 "nbformat": 4,
 "nbformat_minor": 2
}

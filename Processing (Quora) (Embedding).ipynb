{
 "cells": [
  {
   "cell_type": "code",
   "execution_count": 1,
   "metadata": {},
   "outputs": [
    {
     "name": "stderr",
     "output_type": "stream",
     "text": [
      "Processing documents with FastText model: 100%|██████████| 522931/522931 [04:30<00:00, 1931.93it/s]\n"
     ]
    },
    {
     "name": "stdout",
     "output_type": "stream",
     "text": [
      "Processed documents successfully saved to ./DataSets/Quora/embeddings.json\n"
     ]
    }
   ],
   "source": [
    "from Services.DataSetProcessor import process_datasets\n",
    "import fasttext\n",
    "ft_model = fasttext.load_model('./Models/quora_model.bin')\n",
    "process_datasets('quora',1,ft_model)"
   ]
  },
  {
   "cell_type": "code",
   "execution_count": 2,
   "metadata": {},
   "outputs": [
    {
     "name": "stdout",
     "output_type": "stream",
     "text": [
      "Connected to Milvus at localhost:19530\n",
      "Error accessing collection: <SchemaNotReadyException: (code=1, message=Collection 'qoura' not exist, or you can pass in schema to create one.)>\n",
      "Index created on vector with type IVF_FLAT and metric COSINE\n"
     ]
    },
    {
     "name": "stderr",
     "output_type": "stream",
     "text": [
      "Inserting processed documents into MilvusDB: 522931it [29:09, 298.94it/s]\n"
     ]
    }
   ],
   "source": [
    "import ijson\n",
    "from tqdm import tqdm\n",
    "from Services.MilvusDB import MilvusDB\n",
    "from Services.TextProcessor import TextProcessor\n",
    "\n",
    "MilvusDB.connect()\n",
    "MilvusDB.drop_all_collections()\n",
    "\n",
    "filename = './DataSets/Quora/embeddings.json'\n",
    "collection = MilvusDB.get_collection('qoura')\n",
    "if collection:\n",
    "    collection.drop()\n",
    "if collection is None:\n",
    "    collection = MilvusDB.create_collection('quora', 600)\n",
    "\n",
    "batch_size = 1000  \n",
    "batch = []\n",
    "\n",
    "with open(filename, 'r', encoding='utf-8') as file:\n",
    "    objects = ijson.items(file, 'item')\n",
    "    for doc in tqdm(objects, desc=\"Inserting processed documents into MilvusDB\"):\n",
    "        entity = {\n",
    "            \"doc_id\": doc[\"doc_id\"],\n",
    "            \"vector\": TextProcessor.normalize_vector(doc[\"vector\"])\n",
    "        }\n",
    "        batch.append(entity)\n",
    "        \n",
    "        # Insert batch when it reaches the batch size\n",
    "        if len(batch) >= batch_size:\n",
    "            collection.insert(batch)\n",
    "            batch = []  # Reset batch after insertion\n",
    "\n",
    "    # Insert any remaining documents in the batch\n",
    "    if batch:\n",
    "        collection.insert(batch)"
   ]
  }
 ],
 "metadata": {
  "kernelspec": {
   "display_name": "base",
   "language": "python",
   "name": "python3"
  },
  "language_info": {
   "codemirror_mode": {
    "name": "ipython",
    "version": 3
   },
   "file_extension": ".py",
   "mimetype": "text/x-python",
   "name": "python",
   "nbconvert_exporter": "python",
   "pygments_lexer": "ipython3",
   "version": "3.11.7"
  }
 },
 "nbformat": 4,
 "nbformat_minor": 2
}
